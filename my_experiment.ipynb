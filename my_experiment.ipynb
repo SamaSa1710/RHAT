{
 "cells": [
  {
   "cell_type": "code",
   "execution_count": 1,
   "metadata": {},
   "outputs": [],
   "source": [
    "import torch"
   ]
  },
  {
   "cell_type": "code",
   "execution_count": 5,
   "metadata": {},
   "outputs": [
    {
     "name": "stdout",
     "output_type": "stream",
     "text": [
      "(3, 1, 1, 1)\n",
      "Input shape: torch.Size([3, 2, 2, 2])\n",
      "Output shape after drop path: torch.Size([3, 2, 2, 2])\n",
      "tensor([[[[ True,  True],\n",
      "          [ True,  True]],\n",
      "\n",
      "         [[ True,  True],\n",
      "          [ True,  True]]],\n",
      "\n",
      "\n",
      "        [[[ True,  True],\n",
      "          [ True,  True]],\n",
      "\n",
      "         [[ True,  True],\n",
      "          [ True,  True]]],\n",
      "\n",
      "\n",
      "        [[[False, False],\n",
      "          [False, False]],\n",
      "\n",
      "         [[False, False],\n",
      "          [False, False]]]])\n"
     ]
    }
   ],
   "source": [
    "x = torch.randn(3, 2, 2, 2)  # Example shape\n",
    "\n",
    "# Creating a shape for the random tensor to enable broadcasting\n",
    "shape = (x.shape[0],) + (1,) * (x.ndim - 1)  # [3, 1, 1, 1] for this example\n",
    "print(shape)\n",
    "# Generating the random tensor for drop path\n",
    "drop_prob = 0.5\n",
    "keep_prob = 1 - drop_prob\n",
    "random_tensor = keep_prob + torch.rand(shape)\n",
    "random_tensor = torch.floor(random_tensor)  # Binarizing the random tensor\n",
    "\n",
    "# Applying drop path\n",
    "output = x/keep_prob * random_tensor\n",
    "\n",
    "print(\"Input shape:\", x.shape)\n",
    "print(\"Output shape after drop path:\", output.shape)\n",
    "print(output == 0)"
   ]
  },
  {
   "cell_type": "code",
   "execution_count": null,
   "metadata": {},
   "outputs": [],
   "source": [
    "# define a parameter table of relative position bias\n",
    "relative_position_bias_table = nn.Parameter(\n",
    "        torch.zeros((2 * window_size[0] - 1) * (2 * window_size[1] - 1), num_heads))  # 2*Wh-1 * 2*Ww-1, nH\n",
    "\n",
    "        # get pair-wise relative position index for each token inside the window\n",
    "coords_h = torch.arange(self.window_size[0])\n",
    "coords_w = torch.arange(self.window_size[1])\n",
    "coords = torch.stack(torch.meshgrid([coords_h, coords_w]))  # 2, Wh, Ww\n",
    "coords_flatten = torch.flatten(coords, 1)  # 2, Wh*Ww\n",
    "relative_coords = coords_flatten[:, :, None] - coords_flatten[:, None, :]  # 2, Wh*Ww, Wh*Ww"
   ]
  },
  {
   "cell_type": "code",
   "execution_count": 8,
   "metadata": {},
   "outputs": [
    {
     "name": "stdout",
     "output_type": "stream",
     "text": [
      "tensor([[[0, 0, 0],\n",
      "         [1, 1, 1],\n",
      "         [2, 2, 2]],\n",
      "\n",
      "        [[0, 1, 2],\n",
      "         [0, 1, 2],\n",
      "         [0, 1, 2]]])\n"
     ]
    }
   ],
   "source": [
    "import numpy as np\n",
    "coords_h = torch.arange(3)\n",
    "coords_w = torch.arange(3)\n",
    "coords = torch.stack(torch.meshgrid([coords_h, coords_w]))\n",
    "print(coords)"
   ]
  },
  {
   "cell_type": "code",
   "execution_count": null,
   "metadata": {},
   "outputs": [],
   "source": []
  }
 ],
 "metadata": {
  "kernelspec": {
   "display_name": "mmagic",
   "language": "python",
   "name": "python3"
  },
  "language_info": {
   "codemirror_mode": {
    "name": "ipython",
    "version": 3
   },
   "file_extension": ".py",
   "mimetype": "text/x-python",
   "name": "python",
   "nbconvert_exporter": "python",
   "pygments_lexer": "ipython3",
   "version": "3.10.13"
  }
 },
 "nbformat": 4,
 "nbformat_minor": 2
}
